{
  "nbformat": 4,
  "nbformat_minor": 0,
  "metadata": {
    "colab": {
      "provenance": [],
      "gpuType": "T4"
    },
    "kernelspec": {
      "name": "python3",
      "display_name": "Python 3"
    },
    "language_info": {
      "name": "python"
    },
    "accelerator": "GPU"
  },
  "cells": [
    {
      "cell_type": "markdown",
      "source": [
        "# ***VISION TRANSFORMER***"
      ],
      "metadata": {
        "id": "NVUCV3qRQvtT"
      }
    },
    {
      "cell_type": "markdown",
      "source": [
        "# **Abstract**\n",
        "This project implements a Vision Transformer (ViT) model to classify images from the CIFAR-10 dataset. By extracting patches from resized images and passing them through multiple transformer layers, the model learns to classify the images accurately. The project involves data preprocessing, model building, and training the ViT classifier. The trained model is evaluated for accuracy and top-5 accuracy on the test dataset."
      ],
      "metadata": {
        "id": "ZyiXiyTBRMaB"
      }
    },
    {
      "cell_type": "markdown",
      "source": [
        "# **Objective**\n",
        "The primary objective of this project is to develop and evaluate a Vision Transformer (ViT) model for image classification on the CIFAR-10 dataset. The project aims to demonstrate the effectiveness of transformer-based models in image classification tasks and compare the performance of the ViT model with traditional convolutional neural networks (CNNs)."
      ],
      "metadata": {
        "id": "Fsw83EJxRT3X"
      }
    },
    {
      "cell_type": "markdown",
      "source": [
        "# **Introduction**\n",
        "Image classification is a fundamental task in computer vision, traditionally dominated by convolutional neural networks (CNNs). Recently, transformer-based models, which have shown remarkable success in natural language processing, have been adapted for vision tasks. The Vision Transformer (ViT) model processes images by splitting them into patches and applying transformer layers to capture global dependencies. This project explores the implementation and performance of a ViT model on the CIFAR-10 dataset, a widely-used benchmark for image classification."
      ],
      "metadata": {
        "id": "gSZPmy5YRZ8q"
      }
    },
    {
      "cell_type": "markdown",
      "source": [
        "# **Methodology**\n",
        "***The project follows these steps:***\n",
        "\n",
        "1. **Data Loading and Preprocessing:** Load the CIFAR-10 dataset and preprocess the images by resizing and normalizing them.\n",
        "2. **Patch Extraction:** Define a custom layer to extract patches from the resized images.\n",
        "3. **Patch Encoding:** Implement a layer to encode the patches with positional embeddings.\n",
        "4. **Model Building:** Construct the ViT model with multiple transformer layers and an MLP head for classification.\n",
        "5. **Training:** Train the model on the training set with appropriate loss and optimizer settings.\n",
        "6. **Evaluation:** Evaluate the model on the test set and report the accuracy and top-5 accuracy."
      ],
      "metadata": {
        "id": "80j8Bj2-RgDi"
      }
    },
    {
      "cell_type": "markdown",
      "source": [
        "# ***Code:***"
      ],
      "metadata": {
        "id": "7Ri1y2KTSTX4"
      }
    },
    {
      "cell_type": "code",
      "execution_count": 3,
      "metadata": {
        "id": "mNgtUayOQQBa"
      },
      "outputs": [],
      "source": [
        "import warnings\n",
        "warnings.filterwarnings(\"ignore\")"
      ]
    },
    {
      "cell_type": "code",
      "source": [
        "import tensorflow as tf\n",
        "import numpy as np"
      ],
      "metadata": {
        "id": "SsLStC-FaypN"
      },
      "execution_count": 4,
      "outputs": []
    },
    {
      "cell_type": "code",
      "source": [
        "(x_train, y_train), (x_test, y_test) = tf.keras.datasets.cifar10.load_data()"
      ],
      "metadata": {
        "colab": {
          "base_uri": "https://localhost:8080/",
          "height": 0
        },
        "id": "xBQqNLjma-nV",
        "outputId": "f2ea6fa1-7c8d-4ccd-9d02-da3773b9997d"
      },
      "execution_count": 5,
      "outputs": [
        {
          "output_type": "stream",
          "name": "stdout",
          "text": [
            "Downloading data from https://www.cs.toronto.edu/~kriz/cifar-10-python.tar.gz\n",
            "170498071/170498071 [==============================] - 13s 0us/step\n"
          ]
        }
      ]
    },
    {
      "cell_type": "code",
      "source": [
        "x_train.shape"
      ],
      "metadata": {
        "colab": {
          "base_uri": "https://localhost:8080/",
          "height": 0
        },
        "id": "uZTHEuSObMwM",
        "outputId": "67c02ec2-efe9-429e-f7ce-a7c45e6df6a1"
      },
      "execution_count": 6,
      "outputs": [
        {
          "output_type": "execute_result",
          "data": {
            "text/plain": [
              "(50000, 32, 32, 3)"
            ]
          },
          "metadata": {},
          "execution_count": 6
        }
      ]
    },
    {
      "cell_type": "code",
      "source": [
        "learning_rate = 0.001\n",
        "weight_decay = 0.0001\n",
        "batch_size = 256\n",
        "image_size = 72\n",
        "patch_size = 6\n",
        "num_patches = (image_size // patch_size) ** 2\n",
        "projection_dim = 64\n",
        "num_heads = 4\n",
        "transformer_units = [\n",
        "    projection_dim * 2,\n",
        "    projection_dim,\n",
        "]\n",
        "transformer_layers = 8\n",
        "mlp_head_units = [2048, 1024]"
      ],
      "metadata": {
        "id": "Ni3qEazZe3uP"
      },
      "execution_count": 7,
      "outputs": []
    },
    {
      "cell_type": "code",
      "source": [
        "class Patches(tf.keras.layers.Layer):\n",
        "  def __init__(self, patch_size):\n",
        "    super(Patches, self).__init__()\n",
        "    self.patch_size = patch_size\n",
        "  def call(self, images):\n",
        "    batch_size = tf.shape(images)[0]\n",
        "    patches = tf.image.extract_patches(\n",
        "        images=images,\n",
        "        sizes=[1, self.patch_size,patch_size, 1],\n",
        "        strides=[1, self.patch_size, self.patch_size, 1],\n",
        "        rates=[1, 1, 1, 1],\n",
        "        padding=\"VALID\",\n",
        "    )\n",
        "    patch_dims = patches.shape[-1]\n",
        "    patches = tf.reshape(patches, [batch_size, -1, patch_dims])\n",
        "    return patches"
      ],
      "metadata": {
        "id": "BRIfUh69e0Cu"
      },
      "execution_count": 8,
      "outputs": []
    },
    {
      "cell_type": "code",
      "source": [
        "class PatchEncoder(tf.keras.layers.Layer):\n",
        "  def __init__(self, num_patches, projection_dim):\n",
        "    super(PatchEncoder, self).__init__()\n",
        "    self.num_patches = num_patches\n",
        "    self.projection = tf.keras.layers.Dense(units=projection_dim)\n",
        "    self.positional_embedding = tf.keras.layers.Embedding(\n",
        "        input_dim=num_patches, output_dim=projection_dim\n",
        "    )\n",
        "  def call(self, patch):\n",
        "    positions = tf.range(start=0, limit=self.num_patches, delta=1)\n",
        "    encoded = self.projection(patch) + self.positional_embedding(positions)\n",
        "    return encoded"
      ],
      "metadata": {
        "id": "nhyUX4LBf7K2"
      },
      "execution_count": 9,
      "outputs": []
    },
    {
      "cell_type": "code",
      "source": [
        "data_augmentation = tf.keras.Sequential(\n",
        "    [\n",
        "        tf.keras.layers.Normalization(),\n",
        "        tf.keras.layers.Resizing(image_size, image_size),\n",
        "        tf.keras.layers.RandomFlip(\"horizontal\"),\n",
        "        tf.keras.layers.RandomRotation(factor=0.02),\n",
        "        tf.keras.layers.RandomZoom(\n",
        "            height_factor=0.2, width_factor=0.2),\n",
        "    ],\n",
        "    name=\"data_augmentation\",\n",
        ")\n",
        "data_augmentation.layers[0].adapt(x_train)"
      ],
      "metadata": {
        "id": "2BW9hNbPg1yG"
      },
      "execution_count": 10,
      "outputs": []
    },
    {
      "cell_type": "code",
      "source": [
        "def mlp(x, hidden_units, dropout_rate):\n",
        "  for units in hidden_units:\n",
        "    x = tf.keras.layers.Dense(units, activation=tf.nn.gelu)(x)\n",
        "    x = tf.keras.layers.Dropout(dropout_rate)(x)\n",
        "  return x"
      ],
      "metadata": {
        "id": "wjH54g6Nh4-K"
      },
      "execution_count": 11,
      "outputs": []
    },
    {
      "cell_type": "code",
      "source": [
        "import matplotlib.pyplot as plt\n",
        "\n",
        "plt.figure(figsize=(4, 4))\n",
        "image = x_train[np.random.choice(range(x_train.shape[0]))]\n",
        "plt.imshow(image.astype(\"uint8\"))\n",
        "plt.axis(\"off\")\n",
        "\n",
        "resized_image = tf.image.resize(\n",
        "    tf.convert_to_tensor([image]), size=(image_size, image_size)\n",
        ")\n",
        "patches = Patches(patch_size)(resized_image)\n",
        "n = int(np.sqrt(patches.shape[1]))\n",
        "plt.figure(figsize=(4, 4))\n",
        "for i, patch in enumerate(patches[0]):\n",
        "  ax = plt.subplot(n, n, i + 1)\n",
        "  patch_img = tf.reshape(patch, (patch_size, patch_size, 3))\n",
        "  plt.imshow(patch_img.numpy().astype(\"uint8\"))\n",
        "  plt.axis('off')\n"
      ],
      "metadata": {
        "colab": {
          "base_uri": "https://localhost:8080/",
          "height": 673
        },
        "id": "u4nfS0Hxli7T",
        "outputId": "376997d0-b015-44ce-a2c4-c3a8ff5990cd"
      },
      "execution_count": 12,
      "outputs": [
        {
          "output_type": "display_data",
          "data": {
            "text/plain": [
              "<Figure size 400x400 with 1 Axes>"
            ],
            "image/png": "[encoded data removed]"
          },
          "metadata": {}
        },
        {
          "output_type": "display_data",
          "data": {
            "text/plain": [
              "<Figure size 400x400 with 144 Axes>"
            ],
            "image/png": "[encoded data removed]"
          },
          "metadata": {}
        }
      ]
    },
    {
      "cell_type": "code",
      "source": [
        "def create_vit_classifier():\n",
        "  inputs = tf.keras.layers.Input(shape=(32, 32, 3)) # Changed input shape to (32, 32, 3)\n",
        "  augmented = data_augmentation(inputs)\n",
        "  patches = Patches(patch_size)(augmented)\n",
        "  encoded_patches = PatchEncoder(num_patches, projection_dim)(patches)\n",
        "\n",
        "\n",
        "  for _ in range(transformer_layers):\n",
        "    x1 = tf.keras.layers.LayerNormalization(epsilon=1e-6)(encoded_patches)\n",
        "    attention_output = tf.keras.layers.MultiHeadAttention(\n",
        "        num_heads=num_heads, key_dim=projection_dim, dropout=0.1\n",
        "    )(x1, x1)\n",
        "    x2 = tf.keras.layers.Add()([attention_output, encoded_patches])\n",
        "    x3 = tf.keras.layers.LayerNormalization(epsilon=1e-6)(x2)\n",
        "    # Pass x3 as input to mlp\n",
        "    x4 = mlp(x3, hidden_units=transformer_units, dropout_rate=0.1)\n",
        "    encoded_patches = tf.keras.layers.Add()([x4, x2])\n",
        "\n",
        "  representation = tf.keras.layers.LayerNormalization(epsilon=1e-6)(encoded_patches)\n",
        "  representation = tf.keras.layers.Flatten()(representation)\n",
        "  representation = tf.keras.layers.Dropout(0.5)(representation)\n",
        "  # Pass representation as input to mlp\n",
        "  features = mlp(representation, hidden_units=mlp_head_units, dropout_rate=0.5)\n",
        "  logits = tf.keras.layers.Dense(10)(features)\n",
        "\n",
        "  model = tf.keras.Model(inputs=inputs, outputs=logits)\n",
        "  return model"
      ],
      "metadata": {
        "id": "PebuwOC3ofG4"
      },
      "execution_count": 13,
      "outputs": []
    },
    {
      "cell_type": "code",
      "source": [
        "import tensorflow_addons as tfa\n",
        "def run_experiment(model, num_epochs =50):\n",
        "  optimizer = tfa.optimizers.AdamW(\n",
        "      learning_rate=learning_rate, weight_decay=weight_decay\n",
        "  )\n",
        "  model.compile(\n",
        "      optimizer=optimizer,\n",
        "      loss=tf.keras.losses.SparseCategoricalCrossentropy(from_logits=True),\n",
        "      metrics=[\n",
        "          tf.keras.metrics.SparseCategoricalAccuracy(name=\"accuracy\"),\n",
        "          tf.keras.metrics.SparseTopKCategoricalAccuracy(5, name=\"top-5-accuracy\"),\n",
        "      ],\n",
        "  )\n",
        "  checkpoint_filepath = \"/tmp/checkpoint\"\n",
        "  checkpoint_callback = tf.keras.callbacks.ModelCheckpoint(\n",
        "      checkpoint_filepath,\n",
        "      monitor=\"val_accuracy\",\n",
        "      save_best_only=True,\n",
        "      save_weights_only=True,\n",
        "  )\n",
        "  history = model.fit(\n",
        "      x=x_train,\n",
        "      y=y_train,\n",
        "      batch_size=batch_size,\n",
        "      epochs=num_epochs,\n",
        "      validation_split=0.1,\n",
        "      callbacks=[checkpoint_callback],\n",
        "  )\n",
        "  model.load_weights(checkpoint_filepath)\n",
        "  _, accuracy, top_5_accuracy = model.evaluate(x_test, y_test)\n",
        "  print(accuracy, \"\\n\")\n",
        "  print(top_5_accuracy, \"\\n\")\n"
      ],
      "metadata": {
        "id": "eKIPTJgcqm3P"
      },
      "execution_count": 14,
      "outputs": []
    },
    {
      "cell_type": "code",
      "source": [
        "vit_classifier = create_vit_classifier()\n",
        "history = run_experiment(vit_classifier)"
      ],
      "metadata": {
        "colab": {
          "base_uri": "https://localhost:8080/",
          "height": 0
        },
        "id": "y16zqK-uswxJ",
        "outputId": "73e303d5-5a02-4aca-da2d-bfa44ae5253a"
      },
      "execution_count": 15,
      "outputs": [
        {
          "output_type": "stream",
          "name": "stdout",
          "text": [
            "Epoch 1/50\n",
            "176/176 [==============================] - 86s 386ms/step - loss: 2.0389 - accuracy: 0.3138 - top-5-accuracy: 0.8110 - val_loss: 1.4906 - val_accuracy: 0.4680 - val_top-5-accuracy: 0.9162\n",
            "Epoch 2/50\n",
            "176/176 [==============================] - 74s 419ms/step - loss: 1.5377 - accuracy: 0.4479 - top-5-accuracy: 0.9020 - val_loss: 1.2299 - val_accuracy: 0.5600 - val_top-5-accuracy: 0.9498\n",
            "Epoch 3/50\n",
            "176/176 [==============================] - 74s 419ms/step - loss: 1.3893 - accuracy: 0.5050 - top-5-accuracy: 0.9252 - val_loss: 1.1686 - val_accuracy: 0.5890 - val_top-5-accuracy: 0.9564\n",
            "Epoch 4/50\n",
            "176/176 [==============================] - 69s 391ms/step - loss: 1.2888 - accuracy: 0.5423 - top-5-accuracy: 0.9381 - val_loss: 1.0703 - val_accuracy: 0.6198 - val_top-5-accuracy: 0.9622\n",
            "Epoch 5/50\n",
            "176/176 [==============================] - 68s 388ms/step - loss: 1.2171 - accuracy: 0.5684 - top-5-accuracy: 0.9464 - val_loss: 1.0208 - val_accuracy: 0.6462 - val_top-5-accuracy: 0.9686\n",
            "Epoch 6/50\n",
            "176/176 [==============================] - 74s 419ms/step - loss: 1.1615 - accuracy: 0.5938 - top-5-accuracy: 0.9510 - val_loss: 0.9501 - val_accuracy: 0.6714 - val_top-5-accuracy: 0.9726\n",
            "Epoch 7/50\n",
            "176/176 [==============================] - 74s 419ms/step - loss: 1.1038 - accuracy: 0.6158 - top-5-accuracy: 0.9576 - val_loss: 0.9332 - val_accuracy: 0.6772 - val_top-5-accuracy: 0.9726\n",
            "Epoch 8/50\n",
            "176/176 [==============================] - 74s 419ms/step - loss: 1.0506 - accuracy: 0.6320 - top-5-accuracy: 0.9608 - val_loss: 0.8807 - val_accuracy: 0.6892 - val_top-5-accuracy: 0.9764\n",
            "Epoch 9/50\n",
            "176/176 [==============================] - 70s 396ms/step - loss: 1.0059 - accuracy: 0.6491 - top-5-accuracy: 0.9643 - val_loss: 0.8695 - val_accuracy: 0.6966 - val_top-5-accuracy: 0.9784\n",
            "Epoch 10/50\n",
            "176/176 [==============================] - 69s 392ms/step - loss: 0.9843 - accuracy: 0.6565 - top-5-accuracy: 0.9653 - val_loss: 0.8340 - val_accuracy: 0.7132 - val_top-5-accuracy: 0.9822\n",
            "Epoch 11/50\n",
            "176/176 [==============================] - 72s 411ms/step - loss: 0.9557 - accuracy: 0.6649 - top-5-accuracy: 0.9677 - val_loss: 0.8083 - val_accuracy: 0.7238 - val_top-5-accuracy: 0.9814\n",
            "Epoch 12/50\n",
            "176/176 [==============================] - 66s 377ms/step - loss: 0.9279 - accuracy: 0.6811 - top-5-accuracy: 0.9714 - val_loss: 0.7883 - val_accuracy: 0.7236 - val_top-5-accuracy: 0.9816\n",
            "Epoch 13/50\n",
            "176/176 [==============================] - 66s 377ms/step - loss: 0.8941 - accuracy: 0.6900 - top-5-accuracy: 0.9737 - val_loss: 0.7906 - val_accuracy: 0.7214 - val_top-5-accuracy: 0.9840\n",
            "Epoch 14/50\n",
            "176/176 [==============================] - 74s 421ms/step - loss: 0.8583 - accuracy: 0.7012 - top-5-accuracy: 0.9761 - val_loss: 0.7486 - val_accuracy: 0.7390 - val_top-5-accuracy: 0.9852\n",
            "Epoch 15/50\n",
            "176/176 [==============================] - 74s 419ms/step - loss: 0.8232 - accuracy: 0.7139 - top-5-accuracy: 0.9773 - val_loss: 0.7086 - val_accuracy: 0.7578 - val_top-5-accuracy: 0.9854\n",
            "Epoch 16/50\n",
            "176/176 [==============================] - 67s 378ms/step - loss: 0.8035 - accuracy: 0.7204 - top-5-accuracy: 0.9788 - val_loss: 0.7071 - val_accuracy: 0.7548 - val_top-5-accuracy: 0.9854\n",
            "Epoch 17/50\n",
            "176/176 [==============================] - 67s 383ms/step - loss: 0.7788 - accuracy: 0.7279 - top-5-accuracy: 0.9807 - val_loss: 0.6905 - val_accuracy: 0.7608 - val_top-5-accuracy: 0.9850\n",
            "Epoch 18/50\n",
            "176/176 [==============================] - 75s 426ms/step - loss: 0.7640 - accuracy: 0.7338 - top-5-accuracy: 0.9806 - val_loss: 0.6692 - val_accuracy: 0.7656 - val_top-5-accuracy: 0.9858\n",
            "Epoch 19/50\n",
            "176/176 [==============================] - 73s 413ms/step - loss: 0.7232 - accuracy: 0.7476 - top-5-accuracy: 0.9828 - val_loss: 0.6615 - val_accuracy: 0.7694 - val_top-5-accuracy: 0.9858\n",
            "Epoch 20/50\n",
            "176/176 [==============================] - 75s 425ms/step - loss: 0.7224 - accuracy: 0.7482 - top-5-accuracy: 0.9829 - val_loss: 0.6403 - val_accuracy: 0.7774 - val_top-5-accuracy: 0.9884\n",
            "Epoch 21/50\n",
            "176/176 [==============================] - 74s 420ms/step - loss: 0.6929 - accuracy: 0.7585 - top-5-accuracy: 0.9846 - val_loss: 0.6393 - val_accuracy: 0.7778 - val_top-5-accuracy: 0.9898\n",
            "Epoch 22/50\n",
            "176/176 [==============================] - 74s 419ms/step - loss: 0.6811 - accuracy: 0.7645 - top-5-accuracy: 0.9850 - val_loss: 0.6051 - val_accuracy: 0.7874 - val_top-5-accuracy: 0.9898\n",
            "Epoch 23/50\n",
            "176/176 [==============================] - 67s 378ms/step - loss: 0.6640 - accuracy: 0.7688 - top-5-accuracy: 0.9868 - val_loss: 0.6130 - val_accuracy: 0.7856 - val_top-5-accuracy: 0.9896\n",
            "Epoch 24/50\n",
            "176/176 [==============================] - 73s 413ms/step - loss: 0.6424 - accuracy: 0.7744 - top-5-accuracy: 0.9875 - val_loss: 0.5990 - val_accuracy: 0.7914 - val_top-5-accuracy: 0.9900\n",
            "Epoch 25/50\n",
            "176/176 [==============================] - 66s 377ms/step - loss: 0.6269 - accuracy: 0.7812 - top-5-accuracy: 0.9874 - val_loss: 0.6112 - val_accuracy: 0.7842 - val_top-5-accuracy: 0.9900\n",
            "Epoch 26/50\n",
            "176/176 [==============================] - 73s 414ms/step - loss: 0.6086 - accuracy: 0.7870 - top-5-accuracy: 0.9885 - val_loss: 0.6017 - val_accuracy: 0.7928 - val_top-5-accuracy: 0.9880\n",
            "Epoch 27/50\n",
            "176/176 [==============================] - 74s 419ms/step - loss: 0.5974 - accuracy: 0.7922 - top-5-accuracy: 0.9894 - val_loss: 0.5896 - val_accuracy: 0.7948 - val_top-5-accuracy: 0.9900\n",
            "Epoch 28/50\n",
            "176/176 [==============================] - 74s 419ms/step - loss: 0.5898 - accuracy: 0.7901 - top-5-accuracy: 0.9907 - val_loss: 0.5741 - val_accuracy: 0.8006 - val_top-5-accuracy: 0.9900\n",
            "Epoch 29/50\n",
            "176/176 [==============================] - 74s 419ms/step - loss: 0.5682 - accuracy: 0.8023 - top-5-accuracy: 0.9914 - val_loss: 0.5665 - val_accuracy: 0.8038 - val_top-5-accuracy: 0.9914\n",
            "Epoch 30/50\n",
            "176/176 [==============================] - 67s 379ms/step - loss: 0.5515 - accuracy: 0.8055 - top-5-accuracy: 0.9920 - val_loss: 0.5812 - val_accuracy: 0.7960 - val_top-5-accuracy: 0.9906\n",
            "Epoch 31/50\n",
            "176/176 [==============================] - 66s 376ms/step - loss: 0.5437 - accuracy: 0.8085 - top-5-accuracy: 0.9915 - val_loss: 0.5708 - val_accuracy: 0.7950 - val_top-5-accuracy: 0.9910\n",
            "Epoch 32/50\n",
            "176/176 [==============================] - 74s 421ms/step - loss: 0.5367 - accuracy: 0.8108 - top-5-accuracy: 0.9915 - val_loss: 0.5684 - val_accuracy: 0.8052 - val_top-5-accuracy: 0.9896\n",
            "Epoch 33/50\n",
            "176/176 [==============================] - 74s 419ms/step - loss: 0.5275 - accuracy: 0.8143 - top-5-accuracy: 0.9923 - val_loss: 0.5484 - val_accuracy: 0.8118 - val_top-5-accuracy: 0.9904\n",
            "Epoch 34/50\n",
            "176/176 [==============================] - 67s 379ms/step - loss: 0.5030 - accuracy: 0.8208 - top-5-accuracy: 0.9934 - val_loss: 0.5595 - val_accuracy: 0.8080 - val_top-5-accuracy: 0.9906\n",
            "Epoch 35/50\n",
            "176/176 [==============================] - 66s 377ms/step - loss: 0.4914 - accuracy: 0.8268 - top-5-accuracy: 0.9935 - val_loss: 0.5647 - val_accuracy: 0.8104 - val_top-5-accuracy: 0.9924\n",
            "Epoch 36/50\n",
            "176/176 [==============================] - 66s 376ms/step - loss: 0.4886 - accuracy: 0.8274 - top-5-accuracy: 0.9937 - val_loss: 0.5638 - val_accuracy: 0.8098 - val_top-5-accuracy: 0.9914\n",
            "Epoch 37/50\n",
            "176/176 [==============================] - 73s 417ms/step - loss: 0.4802 - accuracy: 0.8318 - top-5-accuracy: 0.9943 - val_loss: 0.5420 - val_accuracy: 0.8182 - val_top-5-accuracy: 0.9914\n",
            "Epoch 38/50\n",
            "176/176 [==============================] - 67s 379ms/step - loss: 0.4697 - accuracy: 0.8357 - top-5-accuracy: 0.9943 - val_loss: 0.5443 - val_accuracy: 0.8160 - val_top-5-accuracy: 0.9906\n",
            "Epoch 39/50\n",
            "176/176 [==============================] - 66s 376ms/step - loss: 0.4592 - accuracy: 0.8391 - top-5-accuracy: 0.9948 - val_loss: 0.5349 - val_accuracy: 0.8166 - val_top-5-accuracy: 0.9892\n",
            "Epoch 40/50\n",
            "176/176 [==============================] - 74s 420ms/step - loss: 0.4454 - accuracy: 0.8431 - top-5-accuracy: 0.9956 - val_loss: 0.5182 - val_accuracy: 0.8248 - val_top-5-accuracy: 0.9910\n",
            "Epoch 41/50\n",
            "176/176 [==============================] - 67s 378ms/step - loss: 0.4361 - accuracy: 0.8464 - top-5-accuracy: 0.9954 - val_loss: 0.5450 - val_accuracy: 0.8138 - val_top-5-accuracy: 0.9926\n",
            "Epoch 42/50\n",
            "176/176 [==============================] - 66s 377ms/step - loss: 0.4345 - accuracy: 0.8477 - top-5-accuracy: 0.9954 - val_loss: 0.5563 - val_accuracy: 0.8140 - val_top-5-accuracy: 0.9910\n",
            "Epoch 43/50\n",
            "176/176 [==============================] - 66s 377ms/step - loss: 0.4239 - accuracy: 0.8505 - top-5-accuracy: 0.9962 - val_loss: 0.5456 - val_accuracy: 0.8090 - val_top-5-accuracy: 0.9906\n",
            "Epoch 44/50\n",
            "176/176 [==============================] - 66s 377ms/step - loss: 0.4145 - accuracy: 0.8542 - top-5-accuracy: 0.9965 - val_loss: 0.5306 - val_accuracy: 0.8216 - val_top-5-accuracy: 0.9914\n",
            "Epoch 45/50\n",
            "176/176 [==============================] - 66s 377ms/step - loss: 0.4090 - accuracy: 0.8557 - top-5-accuracy: 0.9963 - val_loss: 0.5638 - val_accuracy: 0.8038 - val_top-5-accuracy: 0.9900\n",
            "Epoch 46/50\n",
            "176/176 [==============================] - 74s 419ms/step - loss: 0.4100 - accuracy: 0.8568 - top-5-accuracy: 0.9958 - val_loss: 0.5138 - val_accuracy: 0.8346 - val_top-5-accuracy: 0.9908\n",
            "Epoch 47/50\n",
            "176/176 [==============================] - 67s 378ms/step - loss: 0.3972 - accuracy: 0.8603 - top-5-accuracy: 0.9966 - val_loss: 0.5396 - val_accuracy: 0.8162 - val_top-5-accuracy: 0.9906\n",
            "Epoch 48/50\n",
            "176/176 [==============================] - 66s 376ms/step - loss: 0.3849 - accuracy: 0.8644 - top-5-accuracy: 0.9965 - val_loss: 0.5174 - val_accuracy: 0.8294 - val_top-5-accuracy: 0.9912\n",
            "Epoch 49/50\n",
            "176/176 [==============================] - 66s 377ms/step - loss: 0.3784 - accuracy: 0.8682 - top-5-accuracy: 0.9969 - val_loss: 0.5318 - val_accuracy: 0.8266 - val_top-5-accuracy: 0.9906\n",
            "Epoch 50/50\n",
            "176/176 [==============================] - 66s 375ms/step - loss: 0.3689 - accuracy: 0.8721 - top-5-accuracy: 0.9968 - val_loss: 0.5423 - val_accuracy: 0.8210 - val_top-5-accuracy: 0.9918\n",
            "313/313 [==============================] - 7s 23ms/step - loss: 0.5436 - accuracy: 0.8178 - top-5-accuracy: 0.9906\n",
            "0.817799985408783 \n",
            "\n",
            "0.9905999898910522 \n",
            "\n"
          ]
        }
      ]
    },
    {
      "cell_type": "markdown",
      "source": [
        "# **Conclusion**\n",
        "The Vision Transformer (ViT) model demonstrates the capability of transformer architectures for image classification tasks. By dividing images into patches and applying transformer layers, the ViT model achieves competitive performance on the CIFAR-10 dataset. This project highlights the potential of transformer models in computer vision and provides a foundation for further exploration and optimization in various image classification applications."
      ],
      "metadata": {
        "id": "43SwSz2oXzIW"
      }
    }
  ]
}